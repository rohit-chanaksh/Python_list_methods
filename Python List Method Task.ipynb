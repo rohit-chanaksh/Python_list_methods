{
 "cells": [
  {
   "cell_type": "markdown",
   "id": "62e4f088-480c-4884-9bdb-8c50667811ec",
   "metadata": {},
   "source": [
    "## 1. Append"
   ]
  },
  {
   "cell_type": "code",
   "execution_count": null,
   "id": "f6de8d6a-e4c0-41c8-9d06-3fcf6bf77052",
   "metadata": {},
   "outputs": [],
   "source": [
    "Adds an element at the end of the list"
   ]
  },
  {
   "cell_type": "code",
   "execution_count": 2,
   "id": "563e4a47-6c89-4e45-b960-e93570e7bafd",
   "metadata": {},
   "outputs": [],
   "source": [
    "L1 = [ 'Rohit' , 'Virat' , 'Virat' , 'Virat', 'Virat' , 'Rishabh' , 'SKY' ]"
   ]
  },
  {
   "cell_type": "code",
   "execution_count": 3,
   "id": "d6500c40-3a2e-4bb6-b360-0291eaa6068f",
   "metadata": {},
   "outputs": [
    {
     "data": {
      "text/plain": [
       "['Rohit', 'Virat', 'Virat', 'Virat', 'Virat', 'Rishabh', 'SKY']"
      ]
     },
     "execution_count": 3,
     "metadata": {},
     "output_type": "execute_result"
    }
   ],
   "source": [
    "L1 "
   ]
  },
  {
   "cell_type": "code",
   "execution_count": 4,
   "id": "e2502a18-3803-4508-a670-4f7759f29215",
   "metadata": {},
   "outputs": [],
   "source": [
    "L1.append('Shivam')"
   ]
  },
  {
   "cell_type": "code",
   "execution_count": 5,
   "id": "9651b6a2-311d-4c97-968c-8308e5c0cf16",
   "metadata": {},
   "outputs": [
    {
     "name": "stdout",
     "output_type": "stream",
     "text": [
      "['Rohit', 'Virat', 'Virat', 'Virat', 'Virat', 'Rishabh', 'SKY', 'Shivam']\n"
     ]
    }
   ],
   "source": [
    "print(L1)"
   ]
  },
  {
   "cell_type": "raw",
   "id": "ca8a64a3-f67d-40a4-ae8e-a93259aabeda",
   "metadata": {},
   "source": [
    "Shivam has been added to last"
   ]
  },
  {
   "cell_type": "markdown",
   "id": "f21e06df-7e8e-436e-bb6c-e71134ee2d00",
   "metadata": {},
   "source": [
    "## 2.Clear "
   ]
  },
  {
   "cell_type": "code",
   "execution_count": null,
   "id": "1b7371e7-ac04-4a0c-a23d-6df559edc2eb",
   "metadata": {},
   "outputs": [],
   "source": [
    "Removes all the elements from the list"
   ]
  },
  {
   "cell_type": "code",
   "execution_count": 6,
   "id": "18acf360-3937-4bb8-b4d4-eefcd5b4e4f7",
   "metadata": {},
   "outputs": [
    {
     "data": {
      "text/plain": [
       "['Rohit', 'Virat', 'Virat', 'Virat', 'Virat', 'Rishabh', 'SKY', 'Shivam']"
      ]
     },
     "execution_count": 6,
     "metadata": {},
     "output_type": "execute_result"
    }
   ],
   "source": [
    "L1"
   ]
  },
  {
   "cell_type": "code",
   "execution_count": 7,
   "id": "cf959a9c-b367-46ef-b7bd-991fff1a2550",
   "metadata": {},
   "outputs": [],
   "source": [
    "L1.clear()"
   ]
  },
  {
   "cell_type": "code",
   "execution_count": 8,
   "id": "6d96c199-4d85-4f0b-aed2-1353288b9336",
   "metadata": {},
   "outputs": [
    {
     "name": "stdout",
     "output_type": "stream",
     "text": [
      "[]\n"
     ]
    }
   ],
   "source": [
    "print(L1)"
   ]
  },
  {
   "cell_type": "raw",
   "id": "fc36d8bf-4da6-46a5-a36f-a997edc40819",
   "metadata": {},
   "source": [
    "All the elements of List L1 has been cleared"
   ]
  },
  {
   "cell_type": "code",
   "execution_count": null,
   "id": "396b7b21-6c60-4233-9bc9-1bf2ded319a7",
   "metadata": {},
   "outputs": [],
   "source": []
  },
  {
   "cell_type": "markdown",
   "id": "870600f7-5336-4d7b-afed-454a47650931",
   "metadata": {},
   "source": [
    "## 3.Copy"
   ]
  },
  {
   "cell_type": "code",
   "execution_count": null,
   "id": "f1f26486-06a5-424c-a7d9-0a2c52e1ee92",
   "metadata": {},
   "outputs": [],
   "source": [
    "Returns a copy of the list"
   ]
  },
  {
   "cell_type": "code",
   "execution_count": 13,
   "id": "e1373ff5-04b2-47a0-ab48-bd4972f9f497",
   "metadata": {},
   "outputs": [],
   "source": [
    "l1 = [ 'Rohit' , 'Virat' , 'Virat' , 'Virat', 'Virat' , 'Rishabh' , 'SKY' ]"
   ]
  },
  {
   "cell_type": "code",
   "execution_count": 14,
   "id": "85811258-210d-46ca-ae75-4f6da975d936",
   "metadata": {},
   "outputs": [
    {
     "data": {
      "text/plain": [
       "['Rohit', 'Virat', 'Virat', 'Virat', 'Virat', 'Rishabh', 'SKY']"
      ]
     },
     "execution_count": 14,
     "metadata": {},
     "output_type": "execute_result"
    }
   ],
   "source": [
    "l1"
   ]
  },
  {
   "cell_type": "code",
   "execution_count": 15,
   "id": "9a9b9811-e78a-4210-aa5b-b79e293dbb5c",
   "metadata": {},
   "outputs": [],
   "source": [
    "l2 = l1.copy()"
   ]
  },
  {
   "cell_type": "code",
   "execution_count": 16,
   "id": "e8320fdc-72a6-4586-8402-82b90f8c96f5",
   "metadata": {},
   "outputs": [
    {
     "name": "stdout",
     "output_type": "stream",
     "text": [
      "['Rohit', 'Virat', 'Virat', 'Virat', 'Virat', 'Rishabh', 'SKY']\n"
     ]
    }
   ],
   "source": [
    "print(l2)"
   ]
  },
  {
   "cell_type": "raw",
   "id": "1177ada2-0fd9-4a74-8025-11155c950092",
   "metadata": {},
   "source": [
    "Elements of list l1 has been copied to l2"
   ]
  },
  {
   "cell_type": "code",
   "execution_count": 20,
   "id": "356af5d5-5717-4d42-84c2-cd4968a0a3d9",
   "metadata": {},
   "outputs": [
    {
     "data": {
      "text/plain": [
       "['Rohit', 'Virat', 'Virat', 'Virat', 'Virat', 'Rishabh', 'SKY']"
      ]
     },
     "execution_count": 20,
     "metadata": {},
     "output_type": "execute_result"
    }
   ],
   "source": [
    "l1.copy()"
   ]
  },
  {
   "cell_type": "code",
   "execution_count": null,
   "id": "e8b4d48d-a5f9-4da8-9b63-12b4ab4bb902",
   "metadata": {},
   "outputs": [],
   "source": []
  },
  {
   "cell_type": "markdown",
   "id": "8b087953-c388-4a8f-89a8-a1282ecc75d4",
   "metadata": {},
   "source": [
    "## 4.Count"
   ]
  },
  {
   "cell_type": "raw",
   "id": "64508025-ad96-4e48-aac2-4d14662c5d39",
   "metadata": {},
   "source": [
    "Returns the number of elements with the specified value"
   ]
  },
  {
   "cell_type": "code",
   "execution_count": 18,
   "id": "42f2119c-f924-4382-a0a4-75e9fd999e09",
   "metadata": {},
   "outputs": [
    {
     "data": {
      "text/plain": [
       "['Rohit', 'Virat', 'Virat', 'Virat', 'Virat', 'Rishabh', 'SKY']"
      ]
     },
     "execution_count": 18,
     "metadata": {},
     "output_type": "execute_result"
    }
   ],
   "source": [
    "l2"
   ]
  },
  {
   "cell_type": "code",
   "execution_count": 19,
   "id": "4e6a57cd-1e41-4d37-8b50-b93c86e37e91",
   "metadata": {},
   "outputs": [
    {
     "data": {
      "text/plain": [
       "4"
      ]
     },
     "execution_count": 19,
     "metadata": {},
     "output_type": "execute_result"
    }
   ],
   "source": [
    "l2.count('Virat')"
   ]
  },
  {
   "cell_type": "code",
   "execution_count": 21,
   "id": "93a022c5-6791-4460-840e-c1eff1ccfff3",
   "metadata": {},
   "outputs": [],
   "source": [
    "x1 = l2.count('Virat')"
   ]
  },
  {
   "cell_type": "code",
   "execution_count": 22,
   "id": "da5cfac2-c6b5-47ce-ae92-222f902a87ac",
   "metadata": {},
   "outputs": [
    {
     "name": "stdout",
     "output_type": "stream",
     "text": [
      "4\n"
     ]
    }
   ],
   "source": [
    "print(x1)"
   ]
  },
  {
   "cell_type": "raw",
   "id": "91d3aef9-bbd0-4d05-8b0c-1c0067e578e3",
   "metadata": {},
   "source": [
    "Retured the count of 'Virat' present in the list l2"
   ]
  },
  {
   "cell_type": "code",
   "execution_count": null,
   "id": "e055bf4a-6146-45ab-8771-a464d3649059",
   "metadata": {},
   "outputs": [],
   "source": []
  },
  {
   "cell_type": "markdown",
   "id": "7308e097-e31a-492a-b790-98a4d25ea069",
   "metadata": {},
   "source": [
    "## 5.Remove"
   ]
  },
  {
   "cell_type": "raw",
   "id": "068b464e-803c-481a-91f2-3d798eb1a4ba",
   "metadata": {},
   "source": [
    "Removes the item with the specified value"
   ]
  },
  {
   "cell_type": "code",
   "execution_count": 28,
   "id": "eb6af481-a01e-4cd0-bc04-4e3891a7a333",
   "metadata": {},
   "outputs": [
    {
     "data": {
      "text/plain": [
       "['Rohit', 'Virat', 'Virat', 'Virat', 'Virat', 'Rishabh', 'SKY']"
      ]
     },
     "execution_count": 28,
     "metadata": {},
     "output_type": "execute_result"
    }
   ],
   "source": [
    "l2"
   ]
  },
  {
   "cell_type": "code",
   "execution_count": 29,
   "id": "b5af082d-6f25-46fd-bf6c-7c7f067e2bd5",
   "metadata": {},
   "outputs": [],
   "source": [
    "l2.remove('Virat')"
   ]
  },
  {
   "cell_type": "code",
   "execution_count": 30,
   "id": "39b42182-f44b-4a72-bc6c-88a3b7e0ecdd",
   "metadata": {},
   "outputs": [
    {
     "name": "stdout",
     "output_type": "stream",
     "text": [
      "['Rohit', 'Virat', 'Virat', 'Virat', 'Rishabh', 'SKY']\n"
     ]
    }
   ],
   "source": [
    "print(l2)"
   ]
  },
  {
   "cell_type": "raw",
   "id": "2a1400eb-bf54-49a9-93ee-62e4d59325e7",
   "metadata": {},
   "source": [
    "Only one 'Virat' has been removed "
   ]
  },
  {
   "cell_type": "code",
   "execution_count": 32,
   "id": "168e792f-7050-4e35-9ef7-78b11429d0c5",
   "metadata": {},
   "outputs": [
    {
     "data": {
      "text/plain": [
       "3"
      ]
     },
     "execution_count": 32,
     "metadata": {},
     "output_type": "execute_result"
    }
   ],
   "source": [
    "l2.count('Virat')"
   ]
  },
  {
   "cell_type": "code",
   "execution_count": null,
   "id": "9546dafa-342b-4595-8737-6c00ad249d5a",
   "metadata": {},
   "outputs": [],
   "source": [
    "i.e earlier count of virat was 4 but now count is 3"
   ]
  },
  {
   "cell_type": "code",
   "execution_count": null,
   "id": "b685839d-da5a-4398-946f-27e02fe02fb6",
   "metadata": {},
   "outputs": [],
   "source": []
  },
  {
   "cell_type": "code",
   "execution_count": 33,
   "id": "c4e21f90-40d1-4f03-81a8-86174d0c859e",
   "metadata": {},
   "outputs": [
    {
     "ename": "TypeError",
     "evalue": "list.remove() takes exactly one argument (2 given)",
     "output_type": "error",
     "traceback": [
      "\u001b[1;31m---------------------------------------------------------------------------\u001b[0m",
      "\u001b[1;31mTypeError\u001b[0m                                 Traceback (most recent call last)",
      "Cell \u001b[1;32mIn[33], line 1\u001b[0m\n\u001b[1;32m----> 1\u001b[0m x2 \u001b[38;5;241m=\u001b[39m l2\u001b[38;5;241m.\u001b[39mremove(\u001b[38;5;124m'\u001b[39m\u001b[38;5;124mVirat\u001b[39m\u001b[38;5;124m'\u001b[39m , \u001b[38;5;124m'\u001b[39m\u001b[38;5;124mVirat\u001b[39m\u001b[38;5;124m'\u001b[39m)\n",
      "\u001b[1;31mTypeError\u001b[0m: list.remove() takes exactly one argument (2 given)"
     ]
    }
   ],
   "source": [
    "x2 = l2.remove('Virat' , 'Virat')"
   ]
  },
  {
   "cell_type": "raw",
   "id": "54cff0c9-d495-48ba-8ccd-efbae9bda25d",
   "metadata": {},
   "source": [
    "The remove() method \"removes the first occurrence\" of the specified value. If you want to remove \"multiple occurrences or multiple different elements\", \n",
    "you will need to use a LOOP."
   ]
  },
  {
   "cell_type": "code",
   "execution_count": null,
   "id": "ed4069d6-cc37-4f36-91eb-27804baa7852",
   "metadata": {},
   "outputs": [],
   "source": []
  },
  {
   "cell_type": "markdown",
   "id": "ffd458fc-c1c7-48a7-a229-2fd6448b8529",
   "metadata": {},
   "source": [
    "## 6.pop()"
   ]
  },
  {
   "cell_type": "raw",
   "id": "3538efea-0ceb-462b-a180-881cab9ca179",
   "metadata": {},
   "source": [
    "Removes the element at the specified position"
   ]
  },
  {
   "cell_type": "code",
   "execution_count": 35,
   "id": "7656a070-d269-4d70-8ec2-abe7ec557f39",
   "metadata": {},
   "outputs": [
    {
     "data": {
      "text/plain": [
       "['Rohit', 'Virat', 'Virat', 'Virat', 'Rishabh', 'SKY']"
      ]
     },
     "execution_count": 35,
     "metadata": {},
     "output_type": "execute_result"
    }
   ],
   "source": [
    "l2"
   ]
  },
  {
   "cell_type": "code",
   "execution_count": 36,
   "id": "e6f16507-28df-465e-b135-e91aeb649e86",
   "metadata": {},
   "outputs": [
    {
     "data": {
      "text/plain": [
       "'Virat'"
      ]
     },
     "execution_count": 36,
     "metadata": {},
     "output_type": "execute_result"
    }
   ],
   "source": [
    "l2.pop(1)"
   ]
  },
  {
   "cell_type": "raw",
   "id": "d6f15753-4627-46b6-ae3c-d3afe19d6bec",
   "metadata": {},
   "source": [
    "Return the removed element from the list"
   ]
  },
  {
   "cell_type": "code",
   "execution_count": 37,
   "id": "4605a935-26b6-4277-ab63-5f657cab5d6e",
   "metadata": {},
   "outputs": [
    {
     "data": {
      "text/plain": [
       "['Rohit', 'Virat', 'Virat', 'Rishabh', 'SKY']"
      ]
     },
     "execution_count": 37,
     "metadata": {},
     "output_type": "execute_result"
    }
   ],
   "source": [
    "l2"
   ]
  },
  {
   "cell_type": "code",
   "execution_count": null,
   "id": "3a736a37-e5d8-4aad-860b-095561db1a7b",
   "metadata": {},
   "outputs": [],
   "source": [
    "2 Virat left now"
   ]
  },
  {
   "cell_type": "code",
   "execution_count": 39,
   "id": "7275f61d-bae7-41a9-aa48-048a162a0755",
   "metadata": {},
   "outputs": [
    {
     "ename": "TypeError",
     "evalue": "pop expected at most 1 argument, got 2",
     "output_type": "error",
     "traceback": [
      "\u001b[1;31m---------------------------------------------------------------------------\u001b[0m",
      "\u001b[1;31mTypeError\u001b[0m                                 Traceback (most recent call last)",
      "Cell \u001b[1;32mIn[39], line 1\u001b[0m\n\u001b[1;32m----> 1\u001b[0m x2 \u001b[38;5;241m=\u001b[39m l2\u001b[38;5;241m.\u001b[39mpop(\u001b[38;5;241m0\u001b[39m,\u001b[38;5;241m1\u001b[39m)\n",
      "\u001b[1;31mTypeError\u001b[0m: pop expected at most 1 argument, got 2"
     ]
    }
   ],
   "source": [
    "x2 = l2.pop(0,1)"
   ]
  },
  {
   "cell_type": "code",
   "execution_count": 45,
   "id": "dc4d54f5-c6ff-4cf4-9a44-040478aafe14",
   "metadata": {},
   "outputs": [
    {
     "ename": "SyntaxError",
     "evalue": "invalid syntax (2986617286.py, line 1)",
     "output_type": "error",
     "traceback": [
      "\u001b[1;36m  Cell \u001b[1;32mIn[45], line 1\u001b[1;36m\u001b[0m\n\u001b[1;33m    x2 = l2.pop([0:3])\u001b[0m\n\u001b[1;37m                  ^\u001b[0m\n\u001b[1;31mSyntaxError\u001b[0m\u001b[1;31m:\u001b[0m invalid syntax\n"
     ]
    }
   ],
   "source": [
    "x2 = l2.pop([0:3])"
   ]
  },
  {
   "cell_type": "raw",
   "id": "4f54af92-1582-49f0-9180-b23071b14946",
   "metadata": {},
   "source": [
    "we can't remove() or pop() multiple elements at once."
   ]
  },
  {
   "cell_type": "code",
   "execution_count": null,
   "id": "949414e1-11b2-40d1-8c07-b81f54d37115",
   "metadata": {},
   "outputs": [],
   "source": []
  },
  {
   "cell_type": "markdown",
   "id": "164ae728-b4fc-439a-8064-c3d2baa1c869",
   "metadata": {},
   "source": [
    "## 7.Insert()"
   ]
  },
  {
   "cell_type": "raw",
   "id": "90e88a55-764e-4694-b802-1e545e4376c2",
   "metadata": {},
   "source": [
    "Adds an element at the specified position"
   ]
  },
  {
   "cell_type": "code",
   "execution_count": 49,
   "id": "42dd2d61-d495-4e17-9065-7b5ba06b6cc7",
   "metadata": {},
   "outputs": [
    {
     "data": {
      "text/plain": [
       "['Rohit', 'Virat', 'Virat', 'Rishabh', 'SKY']"
      ]
     },
     "execution_count": 49,
     "metadata": {},
     "output_type": "execute_result"
    }
   ],
   "source": [
    "l2"
   ]
  },
  {
   "cell_type": "code",
   "execution_count": 50,
   "id": "2292f1e6-2fa2-41e3-97a7-5d7ff9f01bb2",
   "metadata": {},
   "outputs": [],
   "source": [
    "l2.insert( 0 , 'Yashasvi')"
   ]
  },
  {
   "cell_type": "code",
   "execution_count": 51,
   "id": "1e246caf-54ee-40e7-90ca-8874a89c9e08",
   "metadata": {},
   "outputs": [
    {
     "name": "stdout",
     "output_type": "stream",
     "text": [
      "['Yashasvi', 'Rohit', 'Virat', 'Virat', 'Rishabh', 'SKY']\n"
     ]
    }
   ],
   "source": [
    "print(l2)"
   ]
  },
  {
   "cell_type": "raw",
   "id": "ca562a35-bbb8-4b01-8f07-b71816c2377f",
   "metadata": {},
   "source": [
    "Note : Index of the following elements after the new elements gets change due to insertion"
   ]
  },
  {
   "cell_type": "code",
   "execution_count": null,
   "id": "652ab45c-ef0c-4124-a273-e3d6fc9bea34",
   "metadata": {},
   "outputs": [],
   "source": []
  },
  {
   "cell_type": "markdown",
   "id": "840ba036-18c4-4e8c-b28f-8f349d74d19b",
   "metadata": {},
   "source": [
    "## 8.Index()"
   ]
  },
  {
   "cell_type": "code",
   "execution_count": 55,
   "id": "d85167a4-4278-4788-ae11-045408d16228",
   "metadata": {},
   "outputs": [
    {
     "data": {
      "text/plain": [
       "2"
      ]
     },
     "execution_count": 55,
     "metadata": {},
     "output_type": "execute_result"
    }
   ],
   "source": [
    "l2.index('Virat')"
   ]
  },
  {
   "cell_type": "raw",
   "id": "da995134-48ff-4856-945d-8fbd412215f0",
   "metadata": {},
   "source": [
    "Returns the index of the first element with the specified value"
   ]
  },
  {
   "cell_type": "code",
   "execution_count": null,
   "id": "4a23a9b2-aaa0-4de1-86ab-e482a41f00b7",
   "metadata": {},
   "outputs": [],
   "source": []
  },
  {
   "cell_type": "markdown",
   "id": "30a088d0-f4c1-4708-a6d5-542fdfa7992c",
   "metadata": {},
   "source": [
    "## 9.Extend()"
   ]
  },
  {
   "cell_type": "code",
   "execution_count": 59,
   "id": "ff013724-1539-4054-bbf8-3dc029ab528e",
   "metadata": {},
   "outputs": [
    {
     "data": {
      "text/plain": [
       "['Yashasvi', 'Rohit', 'Virat', 'Virat', 'Rishabh', 'SKY']"
      ]
     },
     "execution_count": 59,
     "metadata": {},
     "output_type": "execute_result"
    }
   ],
   "source": [
    "l2"
   ]
  },
  {
   "cell_type": "code",
   "execution_count": 60,
   "id": "374df8ff-f0c2-4cdd-9736-75928b5eb106",
   "metadata": {},
   "outputs": [],
   "source": [
    "l2.remove('Virat')"
   ]
  },
  {
   "cell_type": "code",
   "execution_count": 61,
   "id": "40bc79f7-1d3b-44a4-afb9-8ab301ebc76a",
   "metadata": {},
   "outputs": [
    {
     "data": {
      "text/plain": [
       "['Yashasvi', 'Rohit', 'Virat', 'Rishabh', 'SKY']"
      ]
     },
     "execution_count": 61,
     "metadata": {},
     "output_type": "execute_result"
    }
   ],
   "source": [
    "l2"
   ]
  },
  {
   "cell_type": "code",
   "execution_count": 62,
   "id": "8ae3cef5-6617-4cfe-8e93-1284c837c241",
   "metadata": {},
   "outputs": [],
   "source": [
    "l3 = [ 'Rinku' , 'Hardik' , 'Axar' , 'Kuldeep' , 'Siraj' , 'Bumrah' ]"
   ]
  },
  {
   "cell_type": "code",
   "execution_count": 63,
   "id": "198894b2-4007-47e8-8493-fe8d01c6a342",
   "metadata": {},
   "outputs": [
    {
     "data": {
      "text/plain": [
       "['Rinku', 'Hardik', 'Axar', 'Kuldeep', 'Siraj', 'Bumrah']"
      ]
     },
     "execution_count": 63,
     "metadata": {},
     "output_type": "execute_result"
    }
   ],
   "source": [
    "l3"
   ]
  },
  {
   "cell_type": "code",
   "execution_count": 64,
   "id": "0ef7465a-d429-4929-9dcc-b29cfd022171",
   "metadata": {},
   "outputs": [],
   "source": [
    "l2.extend(l3)"
   ]
  },
  {
   "cell_type": "code",
   "execution_count": 65,
   "id": "73dd1f5f-3756-4b94-9653-84a4fd5ab7bd",
   "metadata": {},
   "outputs": [
    {
     "data": {
      "text/plain": [
       "['Yashasvi',\n",
       " 'Rohit',\n",
       " 'Virat',\n",
       " 'Rishabh',\n",
       " 'SKY',\n",
       " 'Rinku',\n",
       " 'Hardik',\n",
       " 'Axar',\n",
       " 'Kuldeep',\n",
       " 'Siraj',\n",
       " 'Bumrah']"
      ]
     },
     "execution_count": 65,
     "metadata": {},
     "output_type": "execute_result"
    }
   ],
   "source": [
    "l2"
   ]
  },
  {
   "cell_type": "raw",
   "id": "75926d51-b5b0-4eaf-81f8-e91a3f555ab5",
   "metadata": {},
   "source": [
    "Extension of new List has been done in l2"
   ]
  },
  {
   "cell_type": "code",
   "execution_count": null,
   "id": "f38a3c35-102f-4059-a64b-45170bd2f45d",
   "metadata": {},
   "outputs": [],
   "source": []
  },
  {
   "cell_type": "markdown",
   "id": "ecacb592-574f-498a-a8b0-2be2674dd32e",
   "metadata": {},
   "source": [
    "## 10.Sort()"
   ]
  },
  {
   "cell_type": "code",
   "execution_count": 67,
   "id": "3534b5e9-9ec8-4f53-bfa3-b09c43d98eff",
   "metadata": {},
   "outputs": [],
   "source": [
    "l2.sort()"
   ]
  },
  {
   "cell_type": "code",
   "execution_count": 68,
   "id": "59c64018-8c43-44e4-b994-80feb677de73",
   "metadata": {},
   "outputs": [
    {
     "data": {
      "text/plain": [
       "['Axar',\n",
       " 'Bumrah',\n",
       " 'Hardik',\n",
       " 'Kuldeep',\n",
       " 'Rinku',\n",
       " 'Rishabh',\n",
       " 'Rohit',\n",
       " 'SKY',\n",
       " 'Siraj',\n",
       " 'Virat',\n",
       " 'Yashasvi']"
      ]
     },
     "execution_count": 68,
     "metadata": {},
     "output_type": "execute_result"
    }
   ],
   "source": [
    "l2"
   ]
  },
  {
   "cell_type": "raw",
   "id": "ac5e13b6-52d8-49fe-a4b8-a4a9a03e52a9",
   "metadata": {},
   "source": [
    "sorting has been done alphabetical order"
   ]
  },
  {
   "cell_type": "code",
   "execution_count": null,
   "id": "0bdfba6c-9217-4532-9b15-a501e13c3ea3",
   "metadata": {},
   "outputs": [],
   "source": []
  },
  {
   "cell_type": "markdown",
   "id": "ea1660aa-2d64-4db8-ae8b-83d250fe8e45",
   "metadata": {},
   "source": [
    "## Reverse()"
   ]
  },
  {
   "cell_type": "code",
   "execution_count": 71,
   "id": "fa420769-9b17-44e2-94c2-86bbf4242a03",
   "metadata": {},
   "outputs": [],
   "source": [
    "l2.reverse()"
   ]
  },
  {
   "cell_type": "code",
   "execution_count": 72,
   "id": "9df48651-743b-4364-b0e0-acf3ce717903",
   "metadata": {},
   "outputs": [
    {
     "name": "stdout",
     "output_type": "stream",
     "text": [
      "['Yashasvi', 'Virat', 'Siraj', 'SKY', 'Rohit', 'Rishabh', 'Rinku', 'Kuldeep', 'Hardik', 'Bumrah', 'Axar']\n"
     ]
    }
   ],
   "source": [
    "print(l2)"
   ]
  },
  {
   "cell_type": "raw",
   "id": "d534bec3-3349-4a7c-a95f-fe567f8a35f8",
   "metadata": {},
   "source": [
    "sorting has been done in REVERSE alphabetical order"
   ]
  }
 ],
 "metadata": {
  "kernelspec": {
   "display_name": "Python 3 (ipykernel)",
   "language": "python",
   "name": "python3"
  },
  "language_info": {
   "codemirror_mode": {
    "name": "ipython",
    "version": 3
   },
   "file_extension": ".py",
   "mimetype": "text/x-python",
   "name": "python",
   "nbconvert_exporter": "python",
   "pygments_lexer": "ipython3",
   "version": "3.11.7"
  }
 },
 "nbformat": 4,
 "nbformat_minor": 5
}
